{
  "cells": [
    {
      "cell_type": "markdown",
      "id": "ghGtCpw2dZ3S",
      "metadata": {
        "id": "ghGtCpw2dZ3S"
      },
      "source": [
        "##Librerias"
      ]
    },
    {
      "cell_type": "code",
      "execution_count": 1,
      "id": "47Sp1afpdXRz",
      "metadata": {
        "id": "47Sp1afpdXRz"
      },
      "outputs": [],
      "source": [
        "import math\n",
        "import time\n",
        "import pandas as pd\n",
        "from pandas import ExcelWriter\n",
        "import numpy as np\n",
        "import matplotlib.pyplot as plt"
      ]
    },
    {
      "cell_type": "markdown",
      "id": "0sw376l3xLXv",
      "metadata": {
        "id": "0sw376l3xLXv"
      },
      "source": [
        "Continuos Methods: Mean Square "
      ]
    },
    {
      "cell_type": "markdown",
      "id": "4bb3a685",
      "metadata": {},
      "source": [
        "Crear variables aleatorias CONTINUAS"
      ]
    },
    {
      "cell_type": "code",
      "execution_count": 2,
      "id": "K5WAHNwPxKbF",
      "metadata": {
        "id": "K5WAHNwPxKbF"
      },
      "outputs": [],
      "source": [
        "def meanSquare(seed, n, show=False):\n",
        "    if seed < 1000 or seed > 9999:\n",
        "        return\n",
        "\n",
        "    random_numbers = []\n",
        "\n",
        "    for i in range(n):\n",
        "        seed_squared = seed**2\n",
        "        str_seed_squared = str(seed_squared)\n",
        "        long_square_seed = len(str_seed_squared)\n",
        "\n",
        "        sub_str = \"\"\n",
        "\n",
        "        if(long_square_seed < 8):\n",
        "            aux_long_square_seed = 0\n",
        "            while aux_long_square_seed < 8:\n",
        "                str_seed_squared = \"0\" + str_seed_squared\n",
        "                aux_long_square_seed = len(str_seed_squared)\n",
        "\n",
        "        sub_str = str_seed_squared[2:6]\n",
        "        value = int(sub_str)\n",
        "        random = value / 10000\n",
        "\n",
        "        if(show):\n",
        "            print(\n",
        "                f'INFO: {i}. Seed Xo: {seed}  Xo²: {str_seed_squared}  Long: {long_square_seed}  pseudorandom: {value}  Random Ri: {random}')\n",
        "\n",
        "        seed = value\n",
        "        random_numbers.append(random)\n",
        "        if value == 0:\n",
        "            break\n",
        "\n",
        "    return random_numbers"
      ]
    },
    {
      "cell_type": "markdown",
      "id": "OJgcGtF5ZppD",
      "metadata": {
        "id": "OJgcGtF5ZppD"
      },
      "source": [
        "Continuos Methods: Mixed Congruential Method"
      ]
    },
    {
      "cell_type": "code",
      "execution_count": 3,
      "id": "RkB9VvzIdRxB",
      "metadata": {
        "id": "RkB9VvzIdRxB"
      },
      "outputs": [],
      "source": [
        "def mixedCongruentialMethod(xo_seed = 5, m_module = 2**4,c_additive_constant = 7, a_multiplier = 5,to = 10):\n",
        "    xn1 = 0\n",
        "    pseudo = 0\n",
        "    numbers = []\n",
        "\n",
        "    for _ in range(to):\n",
        "        xo_seed = a_multiplier * xo_seed + c_additive_constant\n",
        "        xn1 = xo_seed % m_module\n",
        "        pseudo = (xn1 + 0.5) / m_module\n",
        "\n",
        "        if(pseudo < 0):\n",
        "            pseudo *=(-1)\n",
        "            \n",
        "        numbers.append(pseudo)\n",
        "    return numbers"
      ]
    },
    {
      "cell_type": "markdown",
      "id": "f7300f20",
      "metadata": {},
      "source": [
        "Poisson Distribution - Discretos"
      ]
    },
    {
      "cell_type": "code",
      "execution_count": 4,
      "id": "2ceb0782",
      "metadata": {},
      "outputs": [],
      "source": [
        "def probability_mass_funtion(mean, k):\n",
        "    pmf = []\n",
        "    for i in range(k):\n",
        "        pmf.append(float(((mean**i)*math.exp(-mean))/math.factorial(i)))\n",
        "    return pmf\n",
        "\n",
        "def cumulative_distribution_funtion(pmf):\n",
        "    \n",
        "    cdf =[]\n",
        "    for i in range(len(pmf)):\n",
        "        if i ==0:\n",
        "            cdf.append(pmf[i])\n",
        "        else:\n",
        "            cdf.append(pmf[i]+cdf[i-1])\n",
        "    return cdf\n",
        "\n",
        "def distribution_criteria(fcp):\n",
        "    condition = []\n",
        "    parameter1 = []\n",
        "    parameter2 = []\n",
        "    Range = []    \n",
        "    for i in range(len(fcp)):\n",
        "        if i == 0:\n",
        "            print(f'{i} hasta {fcp[i]} rango {i}')\n",
        "            parameter1.append(i)\n",
        "            condition.append('hasta')\n",
        "            parameter2.append(fcp[i])\n",
        "            Range.append(f'{i}')\n",
        "        else: \n",
        "            print(f'{fcp[i-1]} hasta {fcp[i]} rango {i}')\n",
        "            parameter1.append(fcp[i-1])\n",
        "            condition.append('hasta')\n",
        "            parameter2.append(fcp[i])\n",
        "            Range.append(f'{i}')\n",
        "    \n",
        "    data = pd.DataFrame()\n",
        "    data['parametro 1'] = parameter1\n",
        "    data['Condicion'] = condition\n",
        "    data['Parametro 2'] = parameter2\n",
        "    data['Range'] = Range    \n",
        "    return data\n",
        "\n",
        "# generamos los datos discretos\n",
        "\n",
        "def distribution_Poisson(fcp, pseudoAleatorios): \n",
        "    Xi =[]\n",
        "    for i in range(len(pseudoAleatorios)):\n",
        "        cont = 0\n",
        "        for j in range(len(fcp)):\n",
        "            if fcp[j] < pseudoAleatorios[i]: \n",
        "                if cont < (len(fcp)-1):\n",
        "                    cont = cont+1\n",
        "\n",
        "        Xi.append(cont) \n",
        "    return Xi"
      ]
    },
    {
      "cell_type": "markdown",
      "id": "4d250f39",
      "metadata": {},
      "source": [
        "Generamos las probabilidades"
      ]
    },
    {
      "cell_type": "code",
      "execution_count": 5,
      "id": "d8e6aedb",
      "metadata": {},
      "outputs": [
        {
          "data": {
            "text/html": [
              "<div>\n",
              "<style scoped>\n",
              "    .dataframe tbody tr th:only-of-type {\n",
              "        vertical-align: middle;\n",
              "    }\n",
              "\n",
              "    .dataframe tbody tr th {\n",
              "        vertical-align: top;\n",
              "    }\n",
              "\n",
              "    .dataframe thead th {\n",
              "        text-align: right;\n",
              "    }\n",
              "</style>\n",
              "<table border=\"1\" class=\"dataframe\">\n",
              "  <thead>\n",
              "    <tr style=\"text-align: right;\">\n",
              "      <th></th>\n",
              "      <th>Funcion masa de probabilidad</th>\n",
              "      <th>Funcion de distribucion acumulativa</th>\n",
              "    </tr>\n",
              "  </thead>\n",
              "  <tbody>\n",
              "    <tr>\n",
              "      <th>0</th>\n",
              "      <td>0.000335</td>\n",
              "      <td>0.000335</td>\n",
              "    </tr>\n",
              "    <tr>\n",
              "      <th>1</th>\n",
              "      <td>0.002684</td>\n",
              "      <td>0.003019</td>\n",
              "    </tr>\n",
              "    <tr>\n",
              "      <th>2</th>\n",
              "      <td>0.010735</td>\n",
              "      <td>0.013754</td>\n",
              "    </tr>\n",
              "    <tr>\n",
              "      <th>3</th>\n",
              "      <td>0.028626</td>\n",
              "      <td>0.042380</td>\n",
              "    </tr>\n",
              "    <tr>\n",
              "      <th>4</th>\n",
              "      <td>0.057252</td>\n",
              "      <td>0.099632</td>\n",
              "    </tr>\n",
              "    <tr>\n",
              "      <th>5</th>\n",
              "      <td>0.091604</td>\n",
              "      <td>0.191236</td>\n",
              "    </tr>\n",
              "    <tr>\n",
              "      <th>6</th>\n",
              "      <td>0.122138</td>\n",
              "      <td>0.313374</td>\n",
              "    </tr>\n",
              "    <tr>\n",
              "      <th>7</th>\n",
              "      <td>0.139587</td>\n",
              "      <td>0.452961</td>\n",
              "    </tr>\n",
              "    <tr>\n",
              "      <th>8</th>\n",
              "      <td>0.139587</td>\n",
              "      <td>0.592547</td>\n",
              "    </tr>\n",
              "    <tr>\n",
              "      <th>9</th>\n",
              "      <td>0.124077</td>\n",
              "      <td>0.716624</td>\n",
              "    </tr>\n",
              "    <tr>\n",
              "      <th>10</th>\n",
              "      <td>0.099262</td>\n",
              "      <td>0.815886</td>\n",
              "    </tr>\n",
              "    <tr>\n",
              "      <th>11</th>\n",
              "      <td>0.072190</td>\n",
              "      <td>0.888076</td>\n",
              "    </tr>\n",
              "    <tr>\n",
              "      <th>12</th>\n",
              "      <td>0.048127</td>\n",
              "      <td>0.936203</td>\n",
              "    </tr>\n",
              "    <tr>\n",
              "      <th>13</th>\n",
              "      <td>0.029616</td>\n",
              "      <td>0.965819</td>\n",
              "    </tr>\n",
              "    <tr>\n",
              "      <th>14</th>\n",
              "      <td>0.016924</td>\n",
              "      <td>0.982743</td>\n",
              "    </tr>\n",
              "  </tbody>\n",
              "</table>\n",
              "</div>"
            ],
            "text/plain": [
              "    Funcion masa de probabilidad  Funcion de distribucion acumulativa\n",
              "0                       0.000335                             0.000335\n",
              "1                       0.002684                             0.003019\n",
              "2                       0.010735                             0.013754\n",
              "3                       0.028626                             0.042380\n",
              "4                       0.057252                             0.099632\n",
              "5                       0.091604                             0.191236\n",
              "6                       0.122138                             0.313374\n",
              "7                       0.139587                             0.452961\n",
              "8                       0.139587                             0.592547\n",
              "9                       0.124077                             0.716624\n",
              "10                      0.099262                             0.815886\n",
              "11                      0.072190                             0.888076\n",
              "12                      0.048127                             0.936203\n",
              "13                      0.029616                             0.965819\n",
              "14                      0.016924                             0.982743"
            ]
          },
          "execution_count": 5,
          "metadata": {},
          "output_type": "execute_result"
        }
      ],
      "source": [
        "pmf = probability_mass_funtion(8,15)\n",
        "cdf = cumulative_distribution_funtion(pmf)\n",
        "\n",
        "poissonData = pd.DataFrame()\n",
        "poissonData['Funcion masa de probabilidad'] = pmf\n",
        "poissonData['Funcion de distribucion acumulativa'] = cdf\n",
        "poissonData.head(100)\n"
      ]
    },
    {
      "cell_type": "markdown",
      "id": "dd1800ed",
      "metadata": {},
      "source": [
        "Guardamos los datos en excel"
      ]
    },
    {
      "cell_type": "code",
      "execution_count": 6,
      "id": "51427258",
      "metadata": {},
      "outputs": [
        {
          "name": "stderr",
          "output_type": "stream",
          "text": [
            "C:\\Users\\julia\\AppData\\Local\\Temp\\ipykernel_18620\\1755217522.py:4: FutureWarning: save is not part of the public API, usage can give in unexpected results and will be removed in a future version\n",
            "  writer.save()\n"
          ]
        }
      ],
      "source": [
        "dataP = pd.DataFrame({'Funcion masa de probabilidad':pmf,'Funcion de distribucion acumulativa':cdf})\n",
        "writer = ExcelWriter('D:/SEMESTRE 13/PROBABILISTICOS/numerosAleatorios/datosProbabilidades.xlsx')\n",
        "dataP.to_excel(writer, 'Probabilidades', index=True)\n",
        "writer.save()"
      ]
    },
    {
      "cell_type": "markdown",
      "id": "569d81a8",
      "metadata": {},
      "source": [
        "Generamos los numeros con la distribucion de poisson"
      ]
    },
    {
      "cell_type": "code",
      "execution_count": 7,
      "id": "079e156d",
      "metadata": {},
      "outputs": [
        {
          "data": {
            "text/html": [
              "<div>\n",
              "<style scoped>\n",
              "    .dataframe tbody tr th:only-of-type {\n",
              "        vertical-align: middle;\n",
              "    }\n",
              "\n",
              "    .dataframe tbody tr th {\n",
              "        vertical-align: top;\n",
              "    }\n",
              "\n",
              "    .dataframe thead th {\n",
              "        text-align: right;\n",
              "    }\n",
              "</style>\n",
              "<table border=\"1\" class=\"dataframe\">\n",
              "  <thead>\n",
              "    <tr style=\"text-align: right;\">\n",
              "      <th></th>\n",
              "      <th>Pseudoaleatorios</th>\n",
              "      <th>Distribution Poisson</th>\n",
              "    </tr>\n",
              "  </thead>\n",
              "  <tbody>\n",
              "    <tr>\n",
              "      <th>0</th>\n",
              "      <td>0.15625</td>\n",
              "      <td>5</td>\n",
              "    </tr>\n",
              "    <tr>\n",
              "      <th>1</th>\n",
              "      <td>0.09375</td>\n",
              "      <td>4</td>\n",
              "    </tr>\n",
              "    <tr>\n",
              "      <th>2</th>\n",
              "      <td>0.78125</td>\n",
              "      <td>10</td>\n",
              "    </tr>\n",
              "    <tr>\n",
              "      <th>3</th>\n",
              "      <td>0.21875</td>\n",
              "      <td>6</td>\n",
              "    </tr>\n",
              "    <tr>\n",
              "      <th>4</th>\n",
              "      <td>0.40625</td>\n",
              "      <td>7</td>\n",
              "    </tr>\n",
              "  </tbody>\n",
              "</table>\n",
              "</div>"
            ],
            "text/plain": [
              "   Pseudoaleatorios  Distribution Poisson\n",
              "0           0.15625                     5\n",
              "1           0.09375                     4\n",
              "2           0.78125                    10\n",
              "3           0.21875                     6\n",
              "4           0.40625                     7"
            ]
          },
          "execution_count": 7,
          "metadata": {},
          "output_type": "execute_result"
        }
      ],
      "source": [
        "# generamos pseudoaleatorios a partir del MCM (metodo congruencial mixto)\n",
        "SEED = int(time.time())\n",
        "Ri = mixedCongruentialMethod(xo_seed = SEED)\n",
        "\n",
        "dp = distribution_Poisson(cdf, Ri)\n",
        "\n",
        "poissonDataP = pd.DataFrame()\n",
        "poissonDataP['Pseudoaleatorios'] = Ri\n",
        "poissonDataP['Distribution Poisson'] = dp\n",
        "poissonDataP.head()"
      ]
    },
    {
      "cell_type": "markdown",
      "id": "19c784f3",
      "metadata": {},
      "source": [
        "Guardamos los datos resultantes de la Distribucion de Poisson"
      ]
    },
    {
      "cell_type": "code",
      "execution_count": 8,
      "id": "8b17ce16",
      "metadata": {},
      "outputs": [
        {
          "name": "stderr",
          "output_type": "stream",
          "text": [
            "C:\\Users\\julia\\AppData\\Local\\Temp\\ipykernel_18620\\60736963.py:4: FutureWarning: save is not part of the public API, usage can give in unexpected results and will be removed in a future version\n",
            "  writer.save()\n"
          ]
        }
      ],
      "source": [
        "dataP = pd.DataFrame({'Ri (pseudoaleatorios)':Ri,'Valores Distribucion Poisson':dp})\n",
        "writer = ExcelWriter('D:/SEMESTRE 13/PROBABILISTICOS/numerosAleatorios/datosDistribucionPoisson.xlsx')\n",
        "dataP.to_excel(writer, 'DistribucionPoisson', index=True)\n",
        "writer.save()"
      ]
    },
    {
      "cell_type": "markdown",
      "id": "d283ee03",
      "metadata": {},
      "source": [
        "Graficamos Distribucion de Poisson"
      ]
    },
    {
      "cell_type": "code",
      "execution_count": 9,
      "id": "7d5c30a8",
      "metadata": {},
      "outputs": [
        {
          "data": {
            "image/png": "[encoded data removed]",
            "text/plain": [
              "<Figure size 640x480 with 1 Axes>"
            ]
          },
          "metadata": {},
          "output_type": "display_data"
        }
      ],
      "source": [
        "rango = np.arange(15)\n",
        "\n",
        "plt.plot(rango,pmf, '--')\n",
        "plt.vlines(rango,0,pmf,color='b',lw=5,alpha=0.5)\n",
        "plt.title('Distribución Poisson')\n",
        "plt.ylabel('Probabilidad')\n",
        "plt.xlabel('valores')\n",
        "plt.show()"
      ]
    },
    {
      "cell_type": "markdown",
      "id": "77a41e1f",
      "metadata": {},
      "source": [
        "Histograma"
      ]
    },
    {
      "cell_type": "code",
      "execution_count": 10,
      "id": "29c74300",
      "metadata": {},
      "outputs": [
        {
          "data": {
            "image/png": "[encoded data removed]",
            "text/plain": [
              "<Figure size 640x480 with 1 Axes>"
            ]
          },
          "metadata": {},
          "output_type": "display_data"
        }
      ],
      "source": [
        "# histograma\n",
        "plt.hist(dp, 20, color='b',lw=5,alpha=0.5, ec='b')\n",
        "plt.ylabel('frequencia')\n",
        "plt.xlabel('valores')\n",
        "plt.title('Histograma Poisson')\n",
        "plt.show()"
      ]
    },
    {
      "cell_type": "code",
      "execution_count": 11,
      "id": "e702719e",
      "metadata": {},
      "outputs": [],
      "source": [
        "arregloNum = []\n",
        "arregloRi = []\n",
        "arregloXi = []\n",
        "arregloEvent = []\n",
        "\n",
        "def results():\n",
        "    print(60*'-')\n",
        "    print('X\\t\\t 0 \\t\\t1')\n",
        "    print(f'P(X)\\t\\t{(1-P0)}\\t\\t{P1}')\n",
        "    print(f'P(X)\\t\\t{(1-P0)}\\t\\t',((1-P0)+P1))\n",
        "    print('\\n')\n",
        "    print(60*'-')\n",
        "    print('N°\\t\\tRi\\t\\tXi\\t\\tEvento')\n",
        "    print(60*'-')\n",
        "    for i in range(len(Ri)):\n",
        "        res = 'No Falla' if Xi[i]== 0 else 'Falla'\n",
        "        print(f'{(i+1)}\\t\\t{Ri[i]}\\t\\t{Xi[i]}\\t\\t{res}')\n",
        "        arregloNum.append(i+1)\n",
        "        arregloRi.append(Ri[i])\n",
        "        arregloXi.append(Xi[i])\n",
        "        arregloEvent.append(res)"
      ]
    },
    {
      "cell_type": "code",
      "execution_count": 12,
      "id": "51864dfd",
      "metadata": {},
      "outputs": [
        {
          "name": "stderr",
          "output_type": "stream",
          "text": [
            "C:\\Users\\julia\\AppData\\Local\\Temp\\ipykernel_18620\\1251865057.py:4: FutureWarning: save is not part of the public API, usage can give in unexpected results and will be removed in a future version\n",
            "  writer.save()\n"
          ]
        }
      ],
      "source": [
        "data = pd.DataFrame({'N°':arregloNum,'Ri':arregloRi,'Xi':arregloXi,'Evento':arregloEvent})\n",
        "writer = ExcelWriter('D:/SEMESTRE 13/PROBABILISTICOS/numerosAleatorios/Datos.xlsx')\n",
        "data.to_excel(writer, 'Hoja de datos', index=False)\n",
        "writer.save()"
      ]
    },
    {
      "cell_type": "markdown",
      "id": "Czm9r6Ftxwe5",
      "metadata": {
        "id": "Czm9r6Ftxwe5"
      },
      "source": [
        "Continuos"
      ]
    },
    {
      "cell_type": "code",
      "execution_count": 14,
      "id": "9HtW3UUPxuns",
      "metadata": {
        "colab": {
          "base_uri": "https://localhost:8080/"
        },
        "id": "9HtW3UUPxuns",
        "outputId": "24580593-1893-4d5a-d055-2e1845e5b29b"
      },
      "outputs": [
        {
          "name": "stdout",
          "output_type": "stream",
          "text": [
            "INFO: 0. Seed Xo: 7777  Xo²: 60481729  Long: 8  pseudorandom: 4817  Random Ri: 0.4817\n",
            "INFO: 1. Seed Xo: 4817  Xo²: 23203489  Long: 8  pseudorandom: 2034  Random Ri: 0.2034\n",
            "INFO: 2. Seed Xo: 2034  Xo²: 04137156  Long: 7  pseudorandom: 1371  Random Ri: 0.1371\n",
            "INFO: 3. Seed Xo: 1371  Xo²: 01879641  Long: 7  pseudorandom: 8796  Random Ri: 0.8796\n",
            "INFO: 4. Seed Xo: 8796  Xo²: 77369616  Long: 8  pseudorandom: 3696  Random Ri: 0.3696\n",
            "INFO: 5. Seed Xo: 3696  Xo²: 13660416  Long: 8  pseudorandom: 6604  Random Ri: 0.6604\n",
            "INFO: 6. Seed Xo: 6604  Xo²: 43612816  Long: 8  pseudorandom: 6128  Random Ri: 0.6128\n",
            "INFO: 7. Seed Xo: 6128  Xo²: 37552384  Long: 8  pseudorandom: 5523  Random Ri: 0.5523\n",
            "INFO: 8. Seed Xo: 5523  Xo²: 30503529  Long: 8  pseudorandom: 5035  Random Ri: 0.5035\n",
            "INFO: 9. Seed Xo: 5035  Xo²: 25351225  Long: 8  pseudorandom: 3512  Random Ri: 0.3512\n"
          ]
        },
        {
          "data": {
            "image/png": "[encoded data removed]",
            "text/plain": [
              "<Figure size 640x480 with 1 Axes>"
            ]
          },
          "metadata": {},
          "output_type": "display_data"
        },
        {
          "data": {
            "image/png": "[encoded data removed]",
            "text/plain": [
              "<Figure size 600x400 with 1 Axes>"
            ]
          },
          "metadata": {},
          "output_type": "display_data"
        }
      ],
      "source": [
        "def histogram(data, txt):\n",
        "    plt.hist (data,  color=\"gray\", ec=\"black\")\n",
        "    plt.title('Números '+txt)\n",
        "    plt.xlabel(\"xi\")\n",
        "    plt.ylabel (\"Probability\")\n",
        "    plt.show()\n",
        "\n",
        "def scatter(data,txt):\n",
        "    x = [i for i in range(len(data))]\n",
        "    y = data\n",
        "    plt.figure(figsize=(6, 4))\n",
        "    plt.scatter(x, y,color=\"blue\")\n",
        "    plt.title('Números '+txt)\n",
        "    plt.xlabel(\"Ri\")\n",
        "    plt.ylabel (\"Probability\")\n",
        "    plt.show()\n",
        "\n",
        "R_i = meanSquare(7777,10,True)\n",
        "histogram(R_i, txt='Pseudoaleatorios Continuos')\n",
        "scatter(R_i,txt='Pseudoaleatorios Continuos')"
      ]
    }
  ],
  "metadata": {
    "colab": {
      "collapsed_sections": [],
      "name": "taller_3_simulacion_numeros_aleatorios.ipynb",
      "provenance": []
    },
    "kernelspec": {
      "display_name": "Python 3.10.5 64-bit",
      "language": "python",
      "name": "python3"
    },
    "language_info": {
      "codemirror_mode": {
        "name": "ipython",
        "version": 3
      },
      "file_extension": ".py",
      "mimetype": "text/x-python",
      "name": "python",
      "nbconvert_exporter": "python",
      "pygments_lexer": "ipython3",
      "version": "3.10.5"
    },
    "vscode": {
      "interpreter": {
        "hash": "e913b7897ac30ba1cf0615ffc95e0dcac655edcf15ece0252fa093eec079069f"
      }
    }
  },
  "nbformat": 4,
  "nbformat_minor": 5
}
